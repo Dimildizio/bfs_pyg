{
  "nbformat": 4,
  "nbformat_minor": 0,
  "metadata": {
    "colab": {
      "provenance": [],
      "authorship_tag": "ABX9TyMmHAJYEN5JCmTzAk/saoR1",
      "include_colab_link": true
    },
    "kernelspec": {
      "name": "python3",
      "display_name": "Python 3"
    },
    "language_info": {
      "name": "python"
    }
  },
  "cells": [
    {
      "cell_type": "markdown",
      "metadata": {
        "id": "view-in-github",
        "colab_type": "text"
      },
      "source": [
        "<a href=\"https://colab.research.google.com/github/Dimildizio/bfs_pyg/blob/master/x_y_dict.ipynb\" target=\"_parent\"><img src=\"https://colab.research.google.com/assets/colab-badge.svg\" alt=\"Open In Colab\"/></a>"
      ]
    },
    {
      "cell_type": "code",
      "execution_count": null,
      "metadata": {
        "id": "aULxLIe4Ndh5"
      },
      "outputs": [],
      "source": [
        "baseline_direction_vectors = {'vertical':   [np.array([0, -1]),\n",
        "                                    np.array([0, 1])],\n",
        "\n",
        "                              'horizontal': [np.array([-1, 0]),\n",
        "                                             np.array([1, 0])],}\n",
        "\n",
        "\n",
        "def find_all_lines(points, img, orientation='horizontal', n_removed_points=0, verbose=True,\n",
        "                    save_images=True, output_dir='output_imgs/'):\n",
        "\n",
        "    if n_removed_points > 0:\n",
        "        print(f'Removing {n_removed_points} points')\n",
        "    line_num_dict = {}    #<---------------------------------- Added to return\n",
        "    chosen_indices = np.random.choice(np.arange(len(centers_array)),\n",
        "                                        len(centers_array) - n_removed_points,\n",
        "                                        replace=False)\n",
        "\n",
        "    remaining_centers = points[chosen_indices]\n",
        "\n",
        "\n",
        "    plt.figure(figsize=(20, 20))\n",
        "    plt.imshow(img)\n",
        "\n",
        "    i = 0\n",
        "    result_lines = []\n",
        "    while len(remaining_centers) != 0:\n",
        "        i += 1\n",
        "\n",
        "        print(f'{orientation} Line {i}')\n",
        "\n",
        "        line_points = find_first_line(\n",
        "            remaining_centers,\n",
        "            img,\n",
        "            direction_vectors=baseline_direction_vectors[orientation],\n",
        "            verbose=verbose,\n",
        "            save_images=save_images,\n",
        "            output_dir=os.path.join(output_dir, f'line_{i}'),\n",
        "        )\n",
        "\n",
        "        line_points_set = {tuple(point) for point in line_points}\n",
        "        remaining_centers = {tuple(point) for point in remaining_centers}\n",
        "\n",
        "        assert len(remaining_centers) - len(line_points_set) == len(remaining_centers - line_points_set)\n",
        "\n",
        "        result_lines.append(line_points)\n",
        "\n",
        "        remaining_centers = remaining_centers - line_points_set\n",
        "        remaining_centers = np.array(list(remaining_centers))\n",
        "        for point in line_points:\n",
        "            center = tuple(point)\n",
        "            line_num_dict[center] = i   # <------------------------- added to return center:number\n",
        "\n",
        "        plt.scatter(line_points[:, 0], line_points[:, 1])\n",
        "\n",
        "        if orientation == 'horizontal':\n",
        "            plt.text(*line_points[line_points[:, 0].argsort()][-1], f'{i}', c='white')\n",
        "        elif orientation == 'vertical':\n",
        "            plt.text(*line_points[line_points[:, 1].argsort()][0], f'{i}', c='white')\n",
        "\n",
        "    return result_lines, line_num_dict # <--------------------------  return tuple"
      ]
    },
    {
      "cell_type": "markdown",
      "source": [
        "Execture the following"
      ],
      "metadata": {
        "id": "uwNZY1feNkhZ"
      }
    },
    {
      "cell_type": "code",
      "source": [
        "horizontal_lines, points_dict = find_all_lines(centers_array, sample_image, orientation='horizontal', verbose=False, save_images=False);"
      ],
      "metadata": {
        "id": "0cyePJjLNpX-"
      },
      "execution_count": null,
      "outputs": []
    },
    {
      "cell_type": "code",
      "source": [
        "# Get lines\\floors\n",
        "sorted_points_dict = {}\n",
        "for key, value in points_dict.items():\n",
        "    if value not in sorted_points_dict:\n",
        "        sorted_points_dict[value] = []\n",
        "\n",
        "    sorted_points_dict[value].append(key)\n",
        "\n",
        "for value in sorted_points_dict:\n",
        "    sorted_points_dict[value] = sorted(sorted_points_dict[value], key=lambda point: point[0])\n",
        "\n",
        "# Create the final dictionary with (center_x, center_y): (N, M) format\n",
        "final_dict = {}\n",
        "for value, points in sorted_points_dict.items():\n",
        "    for i, point in enumerate(points, start=1):\n",
        "        final_dict[point] = (value, i)\n",
        "\n",
        "\n",
        "# Turn upside down\n",
        "max_line = max(value[0] for value in final_dict.values())\n",
        "for key, value in final_dict.items():\n",
        "    N, M = value\n",
        "    new_N = max_line - N + 1\n",
        "    final_dict[key] = (new_N, M)\n",
        "\n",
        "\n",
        "plt.figure(figsize=(20, 20))\n",
        "plt.imshow(sample_image)\n",
        "#Show colors and lines\n",
        "line_colors = {i: (random.random(), random.random(), random.random()) for i in range(1, max_line + 1)}\n",
        "for point, value in final_dict.items():\n",
        "    x, y = point\n",
        "    N, M = value\n",
        "    color = line_colors[N]\n",
        "    plt.scatter(x, y, c=color)\n",
        "    plt.text(x, y, f'({N},{M})', color='white', fontsize=14, ha='center', va='center')\n",
        "\n",
        "plt.show()\n"
      ],
      "metadata": {
        "id": "9z__5P-GNebs"
      },
      "execution_count": null,
      "outputs": []
    }
  ]
}